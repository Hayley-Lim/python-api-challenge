{
 "cells": [
  {
   "cell_type": "markdown",
   "metadata": {},
   "source": [
    "# WeatherPy\n",
    "----\n",
    "\n",
    "#### Note\n",
    "* Instructions have been included for each segment. You do not have to follow them exactly, but they are included to help you think through the steps."
   ]
  },
  {
   "cell_type": "code",
   "execution_count": 1,
   "metadata": {
    "scrolled": true
   },
   "outputs": [],
   "source": [
    "# Dependencies and Setup\n",
    "import matplotlib.pyplot as plt\n",
    "import pandas as pd\n",
    "import numpy as np\n",
    "import requests\n",
    "import json\n",
    "import os\n",
    "from scipy.stats import linregress\n",
    "from pprint import pprint\n",
    "from api_keys import weather_api_key\n",
    "from citipy import citipy"
   ]
  },
  {
   "cell_type": "code",
   "execution_count": 2,
   "metadata": {},
   "outputs": [],
   "source": [
    "# Range of latitudes and longitudes\n",
    "lat_range=(-90,90)\n",
    "lng_range=(-180,180)"
   ]
  },
  {
   "cell_type": "markdown",
   "metadata": {},
   "source": [
    "## Generate Cities List"
   ]
  },
  {
   "cell_type": "code",
   "execution_count": 3,
   "metadata": {},
   "outputs": [
    {
     "data": {
      "text/plain": [
       "618"
      ]
     },
     "execution_count": 3,
     "metadata": {},
     "output_type": "execute_result"
    }
   ],
   "source": [
    "# List for holding randomly generated latitude, longitude and cities\n",
    "lat_lngs = []\n",
    "cities = []\n",
    "\n",
    "#randomly generate 1500 latitudes range from -90 to 90\n",
    "lats = np.random.uniform(lat_range[0], lat_range[1], size=1500)\n",
    "#randomly generate 1500 longitudes range from -180 to 180\n",
    "lngs = np.random.uniform(lng_range[0], lng_range[1], size=1500)\n",
    "# Create a set of random latitudes and longitudes combinations\n",
    "lat_lngs = zip(lats, lngs)\n",
    "\n",
    "# Loop through the lat_lngs list, identify nearest city for each lat, lng combination using the citypy library\n",
    "#return the city_name\n",
    "for lat_lng in lat_lngs:\n",
    "    city = citipy.nearest_city(lat_lng[0], lat_lng[1]).city_name\n",
    "    \n",
    "    # If the city is unique, then add it to a the cities list\n",
    "    if city not in cities:\n",
    "        cities.append(city)\n",
    "\n",
    "#Check the number of cities in the list to confirm there are at least 500 unique cities based on latitude and longitude.\n",
    "len(cities)"
   ]
  },
  {
   "cell_type": "markdown",
   "metadata": {},
   "source": [
    "### Perform API Calls\n",
    "* Perform a weather check on each city using a series of successive API calls.\n",
    "* Include a print log of each city as it'sbeing processed (with the city number and city name).\n"
   ]
  },
  {
   "cell_type": "code",
   "execution_count": 4,
   "metadata": {},
   "outputs": [
    {
     "name": "stdout",
     "output_type": "stream",
     "text": [
      "{'base': 'stations',\n",
      " 'clouds': {'all': 100},\n",
      " 'cod': 200,\n",
      " 'coord': {'lat': 68.0531, 'lon': 39.5131},\n",
      " 'dt': 1631415171,\n",
      " 'id': 556268,\n",
      " 'main': {'feels_like': -1.44,\n",
      "          'grnd_level': 1010,\n",
      "          'humidity': 83,\n",
      "          'pressure': 1012,\n",
      "          'sea_level': 1012,\n",
      "          'temp': 3.56,\n",
      "          'temp_max': 3.56,\n",
      "          'temp_min': 3.56},\n",
      " 'name': 'Ostrovnoy',\n",
      " 'sys': {'country': 'RU', 'sunrise': 1631413673, 'sunset': 1631462934},\n",
      " 'timezone': 10800,\n",
      " 'visibility': 10000,\n",
      " 'weather': [{'description': 'overcast clouds',\n",
      "              'icon': '04d',\n",
      "              'id': 804,\n",
      "              'main': 'Clouds'}],\n",
      " 'wind': {'deg': 275, 'gust': 11.65, 'speed': 7.26}}\n"
     ]
    }
   ],
   "source": [
    "#picked a random city ostrovnoy and perform a test on the API calls\n",
    "#Call current(12/09/2021) weather data for city ostrovnoy\n",
    "\n",
    "city_name=\"ostrovnoy\"\n",
    "API_key=weather_api_key\n",
    "unit=\"metric\"\n",
    "ostrovnoy_url=f'http://api.openweathermap.org/data/2.5/weather?q={city_name}&appid={API_key}&units={unit}'\n",
    "\n",
    "ostrovnoy_response=requests.get(ostrovnoy_url)\n",
    "\n",
    "ostrovnoy_response.json=ostrovnoy_response.json()\n",
    "pprint(ostrovnoy_response.json)"
   ]
  },
  {
   "cell_type": "code",
   "execution_count": 5,
   "metadata": {},
   "outputs": [
    {
     "name": "stdout",
     "output_type": "stream",
     "text": [
      "Beginning Data Retrieval\n",
      "------------------------------\n",
      "Processing Record 1 | Kutum\n",
      "Processing Record 2 | Tuktoyaktuk\n",
      "Processing Record 3 | Saldanha\n",
      "Processing Record 4 | Cherskiy\n",
      "Processing Record 5 | Hasaki\n",
      "Processing Record 6 | Sanmenxia\n",
      "Processing Record 7 | Rikitea\n",
      "Processing Record 8 | Dikson\n",
      "Processing Record 9 | Hong Kong\n",
      "Processing Record 10 | Ketchikan\n",
      "Processing Record 11 | Fortuna\n",
      "Processing Record 12 | Vardø\n",
      "City not found. Skipping...\n",
      "City not found. Skipping...\n",
      "City not found. Skipping...\n",
      "Processing Record 13 | Avarua\n",
      "Processing Record 14 | Hamilton\n",
      "Processing Record 15 | Yellowknife\n",
      "City not found. Skipping...\n",
      "Processing Record 16 | Vaini\n",
      "Processing Record 17 | Mehamn\n",
      "Processing Record 18 | Albany\n",
      "Processing Record 19 | Piaçabuçu\n",
      "Processing Record 20 | Coquimbo\n",
      "Processing Record 21 | Mossamedes\n",
      "Processing Record 22 | Hilo\n",
      "Processing Record 23 | Sinnamary\n",
      "Processing Record 24 | New Norfolk\n",
      "Processing Record 25 | Nouadhibou\n",
      "Processing Record 26 | Līsakovsk\n",
      "Processing Record 27 | Bredasdorp\n",
      "Processing Record 28 | Khani\n",
      "Processing Record 29 | Hermanus\n",
      "City not found. Skipping...\n",
      "Processing Record 30 | Kapaa\n",
      "Processing Record 31 | Busselton\n",
      "Processing Record 32 | Necochea\n",
      "Processing Record 33 | Strelka\n",
      "Processing Record 34 | Ushuaia\n",
      "Processing Record 35 | Nome\n",
      "City not found. Skipping...\n",
      "Processing Record 36 | Severo-Kuril'sk\n",
      "Processing Record 37 | Recreio\n",
      "Processing Record 38 | Cape Town\n",
      "Processing Record 39 | Bluff\n",
      "Processing Record 40 | Miandrivazo\n",
      "Processing Record 41 | Florø\n",
      "Processing Record 42 | Khatanga\n",
      "Processing Record 43 | St. George's\n",
      "Processing Record 44 | Lebu\n",
      "Processing Record 45 | Castro\n",
      "Processing Record 46 | Kisii\n",
      "Processing Record 47 | Katsuura\n",
      "Processing Record 48 | Jamestown\n",
      "Processing Record 49 | East London\n",
      "Processing Record 50 | Ilulissat\n",
      "Processing Record 51 | Barrow\n",
      "Processing Record 52 | Saint Paul Harbor\n",
      "Processing Record 53 | Orchard Homes\n",
      "Processing Record 54 | Zhangjiakou\n",
      "Processing Record 55 | Colomi\n",
      "City not found. Skipping...\n",
      "Processing Record 56 | Baykit\n",
      "Processing Record 57 | Chapais\n",
      "Processing Record 58 | Buchanan\n",
      "Processing Record 59 | Provideniya\n",
      "Processing Record 60 | São Geraldo do Araguaia\n",
      "Processing Record 61 | Anadyr\n",
      "Processing Record 62 | Longyearbyen\n",
      "City not found. Skipping...\n",
      "Processing Record 63 | Mataura\n",
      "Processing Record 64 | Bonavista\n",
      "Processing Record 65 | Clyde River\n",
      "Processing Record 66 | Sapa\n",
      "Processing Record 67 | Strezhevoy\n",
      "Processing Record 68 | Ahipara\n",
      "City not found. Skipping...\n",
      "Processing Record 69 | Chui\n",
      "Processing Record 70 | Taoudenni\n",
      "Processing Record 71 | Teahupoo\n",
      "Processing Record 72 | Mar del Plata\n",
      "Processing Record 73 | Atuona\n",
      "Processing Record 74 | Oussouye\n",
      "Processing Record 75 | Nikolskoye\n",
      "Processing Record 76 | Klaksvík\n",
      "Processing Record 77 | Tirur\n",
      "Processing Record 78 | Raymondville\n",
      "Processing Record 79 | Punta Arenas\n",
      "Processing Record 80 | Davila\n",
      "Processing Record 81 | Tiksi\n",
      "Processing Record 82 | Tōno\n",
      "Processing Record 83 | La Ronge\n",
      "Processing Record 84 | Ves'yegonsk\n",
      "Processing Record 85 | Iskateley\n",
      "Processing Record 86 | Torbay\n",
      "Processing Record 87 | Eyl\n",
      "Processing Record 88 | Qaanaaq\n",
      "Processing Record 89 | Faanui\n",
      "Processing Record 90 | Iqaluit\n",
      "Processing Record 91 | Pori\n",
      "Processing Record 92 | Östersund\n",
      "Processing Record 93 | Tataouine\n",
      "Processing Record 94 | Portland\n",
      "Processing Record 95 | São Filipe\n",
      "Processing Record 96 | Povenets\n",
      "Processing Record 97 | Bilibino\n",
      "Processing Record 98 | Kualakapuas\n",
      "City not found. Skipping...\n",
      "Processing Record 99 | Ordzhonīkīdze\n",
      "Processing Record 100 | Rabo de Peixe\n",
      "Processing Record 101 | Atar\n",
      "Processing Record 102 | Pontianak\n",
      "Processing Record 103 | Bandarbeyla\n",
      "Processing Record 104 | Palmer\n",
      "Processing Record 105 | Morondava\n",
      "Processing Record 106 | Roald\n",
      "Processing Record 107 | Ribeira Grande\n",
      "Processing Record 108 | Talnakh\n",
      "Processing Record 109 | Chara\n",
      "Processing Record 110 | Alice Springs\n",
      "Processing Record 111 | Port Elizabeth\n",
      "Processing Record 112 | Rio Grande\n",
      "Processing Record 113 | Puerto Ayora\n",
      "Processing Record 114 | Statesville\n",
      "Processing Record 115 | Rassvet\n",
      "Processing Record 116 | Peniche\n",
      "Processing Record 117 | Henties Bay\n",
      "Processing Record 118 | Lorengau\n",
      "Processing Record 119 | Uvinza\n",
      "Processing Record 120 | Conde\n",
      "City not found. Skipping...\n",
      "Processing Record 121 | Codrington\n",
      "Processing Record 122 | Chokurdakh\n",
      "Processing Record 123 | Byron Bay\n",
      "Processing Record 124 | Sitka\n",
      "Processing Record 125 | Ocós\n",
      "Processing Record 126 | Bethel\n",
      "Processing Record 127 | Mahébourg\n",
      "Processing Record 128 | Baghmara\n",
      "Processing Record 129 | Butaritari\n",
      "Processing Record 130 | Lavrentiya\n",
      "Processing Record 131 | Esperance\n",
      "Processing Record 132 | Muhafazat Lahij\n",
      "Processing Record 133 | Acajutla\n",
      "Processing Record 134 | Amahai\n",
      "Processing Record 135 | Port Alfred\n",
      "Processing Record 136 | Malakal\n",
      "Processing Record 137 | Qiongshan\n",
      "Processing Record 138 | Ixtapa\n",
      "Processing Record 139 | Shache\n",
      "Processing Record 140 | Akdepe\n",
      "Processing Record 141 | Hobart\n",
      "Processing Record 142 | Mahibadhoo\n",
      "Processing Record 143 | Pangnirtung\n",
      "Processing Record 144 | Ginir\n",
      "Processing Record 145 | San Andrés\n",
      "City not found. Skipping...\n",
      "Processing Record 146 | Tessalit\n",
      "Processing Record 147 | Upernavik\n",
      "Processing Record 148 | George Town\n",
      "Processing Record 149 | Diffa\n",
      "Processing Record 150 | Rome\n",
      "Processing Record 151 | Sorong\n",
      "Processing Record 152 | Zliten\n",
      "Processing Record 153 | Foso\n",
      "City not found. Skipping...\n",
      "Processing Record 154 | Dryden\n",
      "Processing Record 155 | Lodja\n",
      "Processing Record 156 | Sobolevo\n",
      "Processing Record 157 | Dakar\n",
      "Processing Record 158 | Makakilo City\n",
      "Processing Record 159 | Petropavlovsk-Kamchatskiy\n",
      "Processing Record 160 | Labuhan\n",
      "Processing Record 161 | Porbandar\n",
      "Processing Record 162 | Lagoa\n",
      "Processing Record 163 | Alvorada\n",
      "Processing Record 164 | Yinchuan\n",
      "Processing Record 165 | Villaviciosa\n",
      "Processing Record 166 | Viytivka\n",
      "Processing Record 167 | Aklavik\n",
      "Processing Record 168 | Matagami\n",
      "Processing Record 169 | Kavaratti\n",
      "City not found. Skipping...\n",
      "Processing Record 170 | Ponta do Sol\n",
      "Processing Record 171 | Burē\n",
      "Processing Record 172 | Mana\n",
      "Processing Record 173 | Puerto Escondido\n",
      "Processing Record 174 | Maricá\n",
      "Processing Record 175 | East Angus\n",
      "Processing Record 176 | Mogok\n",
      "Processing Record 177 | Kushiro\n",
      "Processing Record 178 | Duiwelskloof\n",
      "Processing Record 179 | Port-Gentil\n",
      "Processing Record 180 | Vuktyl\n",
      "Processing Record 181 | Vostok\n",
      "Processing Record 182 | Comodoro Rivadavia\n",
      "Processing Record 183 | Puro\n",
      "Processing Record 184 | Cabra\n",
      "Processing Record 185 | Camacha\n",
      "Processing Record 186 | Yangi Marg`ilon\n",
      "Processing Record 187 | Saskylakh\n",
      "Processing Record 188 | São João da Barra\n",
      "Processing Record 189 | Lompoc\n",
      "Processing Record 190 | Oliveira dos Brejinhos\n",
      "Processing Record 191 | Guerrero Negro\n",
      "Processing Record 192 | Synya\n",
      "Processing Record 193 | Saint-Rémi\n",
      "Processing Record 194 | Nalobikha\n",
      "Processing Record 195 | Maceió\n",
      "Processing Record 196 | Itumbiara\n",
      "Processing Record 197 | Kumul\n",
      "Processing Record 198 | Belaya Gora\n",
      "Processing Record 199 | Tilichiki\n",
      "Processing Record 200 | Maniwaki\n",
      "Processing Record 201 | Methóni\n",
      "Processing Record 202 | Onguday\n",
      "Processing Record 203 | Luanda\n",
      "Processing Record 204 | Aksu\n",
      "Processing Record 205 | Pacific Grove\n",
      "City not found. Skipping...\n",
      "Processing Record 206 | Bengkulu\n",
      "Processing Record 207 | Barranca\n",
      "Processing Record 208 | Carnarvon\n",
      "Processing Record 209 | Walvis Bay\n",
      "Processing Record 210 | Beirut\n",
      "Processing Record 211 | Cabo San Lucas\n",
      "Processing Record 212 | La Rioja\n",
      "Processing Record 213 | Pevek\n",
      "Processing Record 214 | Muros\n",
      "Processing Record 215 | Hatillo\n",
      "Processing Record 216 | Port Blair\n",
      "City not found. Skipping...\n",
      "City not found. Skipping...\n",
      "Processing Record 217 | Ospitaletto\n",
      "Processing Record 218 | Longido\n",
      "City not found. Skipping...\n",
      "Processing Record 219 | Bridlington\n",
      "Processing Record 220 | Kargasok\n",
      "Processing Record 221 | Sibolga\n",
      "Processing Record 222 | São Félix do Xingu\n",
      "Processing Record 223 | Laredo\n",
      "Processing Record 224 | Tazovsky\n",
      "Processing Record 225 | Raton\n",
      "Processing Record 226 | Kanluran\n",
      "City not found. Skipping...\n",
      "Processing Record 227 | Salinópolis\n",
      "Processing Record 228 | Vila Franca do Campo\n",
      "Processing Record 229 | Zheleznodorozhnyy\n",
      "Processing Record 230 | Weinan\n",
      "Processing Record 231 | Ondjiva\n"
     ]
    },
    {
     "name": "stdout",
     "output_type": "stream",
     "text": [
      "Processing Record 232 | Maragogi\n",
      "Processing Record 233 | Nanortalik\n",
      "Processing Record 234 | Nishihara\n",
      "Processing Record 235 | Mabaruma\n",
      "Processing Record 236 | Agadez\n",
      "Processing Record 237 | Port Hardy\n",
      "Processing Record 238 | Cascais\n",
      "Processing Record 239 | Cap-aux-Meules\n",
      "Processing Record 240 | Balkanabat\n",
      "Processing Record 241 | Hoi An\n",
      "Processing Record 242 | Aguascalientes\n",
      "Processing Record 243 | Cockburn Town\n",
      "Processing Record 244 | Ati\n",
      "Processing Record 245 | Cabedelo\n",
      "Processing Record 246 | Huarmey\n",
      "Processing Record 247 | Zhengjiatun\n",
      "Processing Record 248 | Bodden Town\n",
      "Processing Record 249 | Bambous Virieux\n",
      "Processing Record 250 | Airai\n",
      "Processing Record 251 | San Quintín\n",
      "Processing Record 252 | Taltal\n",
      "Processing Record 253 | Jiaojiang\n",
      "Processing Record 254 | Thinadhoo\n",
      "Processing Record 255 | Nyurba\n",
      "Processing Record 256 | La Macarena\n",
      "Processing Record 257 | Traian\n",
      "Processing Record 258 | Kapit\n",
      "Processing Record 259 | Uozu\n",
      "Processing Record 260 | Husavik\n",
      "Processing Record 261 | Honningsvåg\n",
      "Processing Record 262 | Tigil'\n",
      "City not found. Skipping...\n",
      "Processing Record 263 | ‘Āhuimanu\n",
      "Processing Record 264 | Superior\n",
      "Processing Record 265 | Lewisporte\n",
      "Processing Record 266 | São Francisco de Assis\n",
      "Processing Record 267 | Ramona\n",
      "Processing Record 268 | Ayan\n",
      "Processing Record 269 | Sørland\n",
      "Processing Record 270 | Mbanza-Ngungu\n",
      "City not found. Skipping...\n",
      "Processing Record 271 | Nemuro\n",
      "Processing Record 272 | Flin Flon\n",
      "Processing Record 273 | Adrar\n",
      "Processing Record 274 | Pagudpud\n",
      "Processing Record 275 | Jakar\n",
      "City not found. Skipping...\n",
      "Processing Record 276 | Hearst\n",
      "Processing Record 277 | Buala\n",
      "Processing Record 278 | Tasiilaq\n",
      "Processing Record 279 | Örnsköldsvik\n",
      "Processing Record 280 | Chazuta\n",
      "Processing Record 281 | Marzuq\n",
      "Processing Record 282 | Aktash\n",
      "Processing Record 283 | Arlit\n",
      "Processing Record 284 | Cayenne\n",
      "Processing Record 285 | Teguise\n",
      "Processing Record 286 | Cidreira\n",
      "Processing Record 287 | Vila Velha\n",
      "Processing Record 288 | Casper\n",
      "Processing Record 289 | Saint-Philippe\n",
      "Processing Record 290 | Zaysan\n",
      "Processing Record 291 | Geraldton\n",
      "Processing Record 292 | Fairbanks\n",
      "Processing Record 293 | Kandrian\n",
      "City not found. Skipping...\n",
      "Processing Record 294 | Kaitangata\n",
      "Processing Record 295 | Boromo\n",
      "Processing Record 296 | Vestmannaeyjar\n",
      "Processing Record 297 | Lüderitz\n",
      "Processing Record 298 | Padang\n",
      "Processing Record 299 | Khotynets\n",
      "Processing Record 300 | Laramie\n",
      "Processing Record 301 | Kaeo\n",
      "Processing Record 302 | Aden\n",
      "Processing Record 303 | Kavieng\n",
      "Processing Record 304 | Sakakah\n",
      "Processing Record 305 | Kalispell\n",
      "Processing Record 306 | Saint Anthony\n",
      "Processing Record 307 | Gazli\n",
      "Processing Record 308 | Pochutla\n",
      "Processing Record 309 | Ancud\n",
      "Processing Record 310 | Shimanovsk\n",
      "Processing Record 311 | Darnah\n",
      "Processing Record 312 | Prymors'k\n",
      "Processing Record 313 | Griffith\n",
      "Processing Record 314 | Narsaq\n",
      "Processing Record 315 | Changji\n",
      "Processing Record 316 | Bom Sucesso\n",
      "Processing Record 317 | Amoy\n",
      "Processing Record 318 | Belmonte\n",
      "City not found. Skipping...\n",
      "Processing Record 319 | Petatlán\n",
      "Processing Record 320 | Jardim\n",
      "Processing Record 321 | La Tuque\n",
      "Processing Record 322 | Sukumo\n",
      "Processing Record 323 | Maniitsoq\n",
      "Processing Record 324 | Pisco\n",
      "Processing Record 325 | Saint-Augustin\n",
      "Processing Record 326 | Qujing\n",
      "Processing Record 327 | Rockingham\n",
      "Processing Record 328 | Hailar\n",
      "Processing Record 329 | Kiryat Gat\n",
      "Processing Record 330 | Kirensk\n",
      "Processing Record 331 | Te Anau\n",
      "Processing Record 332 | Dhanwār\n",
      "City not found. Skipping...\n",
      "Processing Record 333 | Pitimbu\n",
      "Processing Record 334 | Teknāf\n",
      "City not found. Skipping...\n",
      "Processing Record 335 | Popondetta\n",
      "Processing Record 336 | Moindou\n",
      "Processing Record 337 | Natal\n",
      "Processing Record 338 | Grand Gaube\n",
      "Processing Record 339 | Itapecerica\n",
      "Processing Record 340 | Hithadhoo\n",
      "Processing Record 341 | Arraial do Cabo\n",
      "Processing Record 342 | Constitución\n",
      "Processing Record 343 | Tara\n",
      "Processing Record 344 | Margate\n",
      "Processing Record 345 | Nantucket\n",
      "Processing Record 346 | Levokumskoye\n",
      "Processing Record 347 | Jiuquan\n",
      "Processing Record 348 | Hobyo\n",
      "Processing Record 349 | Puerto Madryn\n",
      "Processing Record 350 | Sunnyside\n",
      "Processing Record 351 | Tabou\n",
      "City not found. Skipping...\n",
      "Processing Record 352 | Boende\n",
      "Processing Record 353 | Kefar Shemaryahu\n",
      "Processing Record 354 | Leningradskiy\n",
      "Processing Record 355 | Klyuchi\n",
      "Processing Record 356 | Minden\n",
      "City not found. Skipping...\n",
      "Processing Record 357 | Mount Isa\n",
      "Processing Record 358 | Vao\n",
      "Processing Record 359 | Zhigansk\n",
      "Processing Record 360 | Barinas\n",
      "Processing Record 361 | Krasnoarmeysk\n",
      "Processing Record 362 | Batagay-Alyta\n",
      "Processing Record 363 | Assiut\n",
      "Processing Record 364 | Sangar\n",
      "Processing Record 365 | Gbadolite\n",
      "Processing Record 366 | Porto-Novo\n",
      "Processing Record 367 | Mitchell\n",
      "Processing Record 368 | Broken Hill\n",
      "Processing Record 369 | Broadstairs\n",
      "Processing Record 370 | Wanaka\n",
      "Processing Record 371 | Sri Aman\n",
      "Processing Record 372 | Płońsk\n",
      "Processing Record 373 | Acapulco de Juárez\n",
      "Processing Record 374 | Lucea\n",
      "Processing Record 375 | Annau\n",
      "Processing Record 376 | Laguna\n",
      "Processing Record 377 | Marabu\n",
      "Processing Record 378 | Isangel\n",
      "Processing Record 379 | Sigmaringen\n",
      "Processing Record 380 | Natchitoches\n",
      "Processing Record 381 | Chornobay\n",
      "City not found. Skipping...\n",
      "Processing Record 382 | Nago\n",
      "Processing Record 383 | Westport\n",
      "City not found. Skipping...\n",
      "Processing Record 384 | Thompson\n",
      "Processing Record 385 | Béboto\n",
      "Processing Record 386 | Goianésia\n",
      "Processing Record 387 | Norman Wells\n",
      "City not found. Skipping...\n",
      "Processing Record 388 | Arman'\n",
      "Processing Record 389 | Plastun\n",
      "Processing Record 390 | Caçu\n",
      "Processing Record 391 | Batemans Bay\n",
      "Processing Record 392 | Hay River\n",
      "Processing Record 393 | Miraflores\n",
      "Processing Record 394 | North Highlands\n",
      "Processing Record 395 | Estelle\n",
      "Processing Record 396 | San Patricio\n",
      "Processing Record 397 | Havelock\n",
      "Processing Record 398 | Rørvik\n",
      "Processing Record 399 | Sabzawār\n",
      "Processing Record 400 | Gambo\n",
      "Processing Record 401 | Trat\n",
      "Processing Record 402 | Kilindoni\n",
      "Processing Record 403 | Genhe\n",
      "Processing Record 404 | Santa Barbara\n",
      "Processing Record 405 | Kumo\n",
      "Processing Record 406 | Faya\n",
      "Processing Record 407 | Zeya\n",
      "Processing Record 408 | Bodītī\n",
      "Processing Record 409 | Shakhtinsk\n",
      "Processing Record 410 | Kommunisticheskiy\n",
      "Processing Record 411 | Mezen'\n",
      "Processing Record 412 | Naze\n",
      "Processing Record 413 | Goderich\n",
      "Processing Record 414 | Loralai\n",
      "Processing Record 415 | Touros\n",
      "Processing Record 416 | Altamont\n",
      "City not found. Skipping...\n",
      "Processing Record 417 | Ovalle\n",
      "Processing Record 418 | Onalaska\n",
      "Processing Record 419 | Mikhaylovka\n",
      "Processing Record 420 | Karlstad\n",
      "Processing Record 421 | Baniachang\n",
      "Processing Record 422 | Esmeraldas\n",
      "Processing Record 423 | Alyangula\n",
      "Processing Record 424 | Ambon City\n",
      "Processing Record 425 | Bratsk\n",
      "Processing Record 426 | Kloulklubed\n",
      "City not found. Skipping...\n",
      "Processing Record 427 | Hoquiam\n",
      "Processing Record 428 | Hongjiang\n",
      "Processing Record 429 | Mackay\n",
      "Processing Record 430 | Ørje\n",
      "City not found. Skipping...\n",
      "City not found. Skipping...\n",
      "Processing Record 431 | Fare\n",
      "Processing Record 432 | Ust-Nera\n",
      "Processing Record 433 | Meulaboh\n",
      "Processing Record 434 | Qingdao\n",
      "Processing Record 435 | Abū Zabad\n",
      "Processing Record 436 | Kozhevnikovo\n",
      "Processing Record 437 | Havre-St-Pierre\n",
      "Processing Record 438 | Abhā\n",
      "Processing Record 439 | Kardašova Řečice\n",
      "City not found. Skipping...\n",
      "Processing Record 440 | Nanchang\n",
      "Processing Record 441 | Barmstedt\n",
      "Processing Record 442 | Ambulu\n",
      "Processing Record 443 | Barstow\n",
      "Processing Record 444 | Ashtabula\n",
      "Processing Record 445 | Fort Nelson\n",
      "Processing Record 446 | Mataram\n",
      "Processing Record 447 | Berlevåg\n",
      "Processing Record 448 | Biltine\n",
      "Processing Record 449 | Vanimo\n",
      "Processing Record 450 | Vertientes\n",
      "City not found. Skipping...\n",
      "Processing Record 451 | Aban\n",
      "Processing Record 452 | Huilong\n",
      "Processing Record 453 | Plettenberg Bay\n",
      "Processing Record 454 | Tandaltī\n",
      "Processing Record 455 | Namatanai\n",
      "Processing Record 456 | Novocheremshansk\n",
      "Processing Record 457 | Richards Bay\n",
      "Processing Record 458 | Lázaro Cárdenas\n",
      "Processing Record 459 | Qasigiannguit\n",
      "Processing Record 460 | Flinders\n",
      "Processing Record 461 | Lanzhou\n",
      "Processing Record 462 | Tegul'det\n"
     ]
    },
    {
     "name": "stdout",
     "output_type": "stream",
     "text": [
      "Processing Record 463 | Nanlong\n",
      "Processing Record 464 | Wenling\n",
      "Processing Record 465 | Souillac\n",
      "City not found. Skipping...\n",
      "Processing Record 466 | Kamaishi\n",
      "Processing Record 467 | Apostolove\n",
      "Processing Record 468 | Cave Spring\n",
      "Processing Record 469 | Listvyanka\n",
      "Processing Record 470 | Birjand\n",
      "Processing Record 471 | Aswān\n",
      "Processing Record 472 | Isiro\n",
      "Processing Record 473 | Qaqortoq\n",
      "Processing Record 474 | Whyalla\n",
      "Processing Record 475 | Kabo\n",
      "Processing Record 476 | Bayir\n",
      "Processing Record 477 | Marakkanam\n",
      "Processing Record 478 | Yenagoa\n",
      "Processing Record 479 | Pueblo Nuevo\n",
      "Processing Record 480 | Verāval\n",
      "Processing Record 481 | Kununurra\n",
      "Processing Record 482 | Yar-Sale\n",
      "Processing Record 483 | Tura\n",
      "Processing Record 484 | Lučenec\n",
      "Processing Record 485 | Saint-Leu\n",
      "Processing Record 486 | Fundación\n",
      "Processing Record 487 | Lavumisa\n",
      "Processing Record 488 | Umluj\n",
      "Processing Record 489 | Akhtubinsk\n",
      "Processing Record 490 | Ostrovnoy\n",
      "Processing Record 491 | Porlamar\n",
      "Processing Record 492 | Saint-Paul\n",
      "Processing Record 493 | Bariloche\n",
      "Processing Record 494 | Tūkrah\n",
      "City not found. Skipping...\n",
      "Processing Record 495 | Shirokiy\n",
      "Processing Record 496 | Jackson\n",
      "Processing Record 497 | Ruidoso\n",
      "Processing Record 498 | Kropotkin\n",
      "Processing Record 499 | Gamba\n",
      "Processing Record 500 | Río Bueno\n",
      "Processing Record 501 | Eureka\n",
      "Processing Record 502 | Ghazīpur\n",
      "Processing Record 503 | Gunjur\n",
      "Processing Record 504 | Pemangkat\n",
      "City not found. Skipping...\n",
      "City not found. Skipping...\n",
      "Processing Record 505 | Laas\n",
      "Processing Record 506 | Mananjary\n",
      "Processing Record 507 | Winnemucca\n",
      "Processing Record 508 | Grindavik\n",
      "Processing Record 509 | Bojnourd\n",
      "Processing Record 510 | Zhangjiakou Shi Xuanhua Qu\n",
      "Processing Record 511 | Sabang\n",
      "City not found. Skipping...\n",
      "Processing Record 512 | Luga\n",
      "Processing Record 513 | Abu Samrah\n",
      "Processing Record 514 | Tupik\n",
      "Processing Record 515 | Daloa\n",
      "Processing Record 516 | Berekum\n",
      "Processing Record 517 | Itoman\n",
      "City not found. Skipping...\n",
      "Processing Record 518 | Semikarakorsk\n",
      "Processing Record 519 | Emba\n",
      "Processing Record 520 | Kholtoson\n",
      "Processing Record 521 | Northam\n",
      "Processing Record 522 | Ocho Rios\n",
      "Processing Record 523 | Manta\n",
      "Processing Record 524 | Katangli\n",
      "Processing Record 525 | Dongsheng\n",
      "Processing Record 526 | Hualmay\n",
      "Processing Record 527 | Udachny\n",
      "Processing Record 528 | Kieta\n",
      "City not found. Skipping...\n",
      "Processing Record 529 | Zonguldak\n",
      "Processing Record 530 | Khovd\n",
      "Processing Record 531 | Kuching\n",
      "Processing Record 532 | Grootfontein\n",
      "City not found. Skipping...\n",
      "Processing Record 533 | Caravelas\n",
      "Processing Record 534 | Jati\n",
      "Processing Record 535 | Ucluelet\n",
      "Processing Record 536 | Kashgar\n",
      "Processing Record 537 | Ballina\n",
      "Processing Record 538 | Khāsh\n",
      "Processing Record 539 | Sabinas\n",
      "Processing Record 540 | Kichera\n",
      "Processing Record 541 | Bereket\n",
      "City not found. Skipping...\n",
      "Processing Record 542 | College\n",
      "Processing Record 543 | Kimbe\n",
      "Processing Record 544 | Krasnaya Gora\n",
      "Processing Record 545 | Sayyan\n",
      "Processing Record 546 | Cap Malheureux\n",
      "Processing Record 547 | Nelson Bay\n",
      "Processing Record 548 | Bestöbe\n",
      "Processing Record 549 | Suileng\n",
      "Processing Record 550 | Arrondissement de Saintes\n",
      "Processing Record 551 | San Rafael del Sur\n",
      "Processing Record 552 | Río Gallegos\n",
      "Processing Record 553 | Hofn\n",
      "Processing Record 554 | Los Llanos de Aridane\n",
      "Processing Record 555 | Mayo\n",
      "Processing Record 556 | Buta\n",
      "City not found. Skipping...\n",
      "Processing Record 557 | Puente Grande\n",
      "Processing Record 558 | Paamiut\n",
      "Processing Record 559 | Zorritos\n",
      "Processing Record 560 | Salalah\n",
      "Processing Record 561 | Dunedin\n",
      "Processing Record 562 | Sisimiut\n",
      "Processing Record 563 | Avera\n",
      "Processing Record 564 | Creutzwald\n",
      "Processing Record 565 | Roebourne\n",
      "Processing Record 566 | Concarneau\n",
      "Processing Record 567 | Flagstaff\n",
      "Processing Record 568 | Hua Hin\n",
      "Processing Record 569 | Lusambo\n",
      "Processing Record 570 | Deputatsky\n",
      "Processing Record 571 | Yulara\n",
      "------------------------------\n",
      "Data Retrieval Complete\n",
      "------------------------------\n"
     ]
    }
   ],
   "source": [
    "# Create empty list to retrieve the data\n",
    "city_name=[]\n",
    "lat=[]\n",
    "lng=[]\n",
    "max_temp = []\n",
    "humidity = []\n",
    "cloudiness = []\n",
    "wind_speed = []\n",
    "country = []\n",
    "date = []\n",
    "\n",
    "counter=1\n",
    "\n",
    "print(\"Beginning Data Retrieval\")\n",
    "print(\"------------------------------\")\n",
    "\n",
    "# For each city, use openweather API to retrieve the data and append to corresponding lists\n",
    "for city in cities:\n",
    "    \n",
    "    # Use try and except block to prevent the code from stopping when a city cannot be found\n",
    "    try:\n",
    "        url = \"http://api.openweathermap.org/data/2.5/weather?appid=\" + weather_api_key + \"&units=metric&q=\"\n",
    "        city_url=url+city\n",
    "        response=requests.get(city_url)\n",
    "        response.json=response.json()\n",
    "        city_name.append(response.json['name'])\n",
    "        lat.append(response.json['coord']['lat'])\n",
    "        lng.append(response.json['coord']['lon'])\n",
    "        max_temp.append(response.json['main']['temp_max'])\n",
    "        humidity.append(response.json['main']['humidity'])\n",
    "        cloudiness.append(response.json['clouds']['all'])\n",
    "        wind_speed.append(response.json['wind']['speed'])\n",
    "        country.append(response.json['sys']['country'])\n",
    "        date.append(response.json['dt'])\n",
    "        city_record=response.json['name']\n",
    "        print(f'Processing Record {counter} | {city_record}')\n",
    "        counter = counter + 1\n",
    "    \n",
    "    except(KeyError, IndexError):\n",
    "        print(\"City not found. Skipping...\")\n",
    "        \n",
    "    continue\n",
    "\n",
    "print(\"------------------------------\")\n",
    "print(\"Data Retrieval Complete\")\n",
    "print(\"------------------------------\")"
   ]
  },
  {
   "cell_type": "markdown",
   "metadata": {},
   "source": [
    "### Convert Raw Data to DataFrame\n",
    "* Export the city data into a .csv.\n",
    "* Display the DataFrame"
   ]
  },
  {
   "cell_type": "code",
   "execution_count": 6,
   "metadata": {},
   "outputs": [
    {
     "data": {
      "text/html": [
       "<div>\n",
       "<style scoped>\n",
       "    .dataframe tbody tr th:only-of-type {\n",
       "        vertical-align: middle;\n",
       "    }\n",
       "\n",
       "    .dataframe tbody tr th {\n",
       "        vertical-align: top;\n",
       "    }\n",
       "\n",
       "    .dataframe thead th {\n",
       "        text-align: right;\n",
       "    }\n",
       "</style>\n",
       "<table border=\"1\" class=\"dataframe\">\n",
       "  <thead>\n",
       "    <tr style=\"text-align: right;\">\n",
       "      <th></th>\n",
       "      <th>City</th>\n",
       "      <th>Lat</th>\n",
       "      <th>Lng</th>\n",
       "      <th>Max Temp (°C)</th>\n",
       "      <th>Humidity (%)</th>\n",
       "      <th>Cloudiness (%)</th>\n",
       "      <th>Wind Speed (MPH)</th>\n",
       "      <th>Country</th>\n",
       "      <th>Date</th>\n",
       "    </tr>\n",
       "  </thead>\n",
       "  <tbody>\n",
       "    <tr>\n",
       "      <th>0</th>\n",
       "      <td>Kutum</td>\n",
       "      <td>14.2000</td>\n",
       "      <td>24.6667</td>\n",
       "      <td>23.50</td>\n",
       "      <td>66</td>\n",
       "      <td>52</td>\n",
       "      <td>3.96</td>\n",
       "      <td>SD</td>\n",
       "      <td>1631415176</td>\n",
       "    </tr>\n",
       "    <tr>\n",
       "      <th>1</th>\n",
       "      <td>Tuktoyaktuk</td>\n",
       "      <td>69.4541</td>\n",
       "      <td>-133.0374</td>\n",
       "      <td>11.00</td>\n",
       "      <td>76</td>\n",
       "      <td>90</td>\n",
       "      <td>3.09</td>\n",
       "      <td>CA</td>\n",
       "      <td>1631415177</td>\n",
       "    </tr>\n",
       "    <tr>\n",
       "      <th>2</th>\n",
       "      <td>Saldanha</td>\n",
       "      <td>-33.0117</td>\n",
       "      <td>17.9442</td>\n",
       "      <td>13.03</td>\n",
       "      <td>91</td>\n",
       "      <td>100</td>\n",
       "      <td>4.31</td>\n",
       "      <td>ZA</td>\n",
       "      <td>1631415178</td>\n",
       "    </tr>\n",
       "    <tr>\n",
       "      <th>3</th>\n",
       "      <td>Cherskiy</td>\n",
       "      <td>68.7500</td>\n",
       "      <td>161.3000</td>\n",
       "      <td>2.26</td>\n",
       "      <td>50</td>\n",
       "      <td>100</td>\n",
       "      <td>2.49</td>\n",
       "      <td>RU</td>\n",
       "      <td>1631415178</td>\n",
       "    </tr>\n",
       "    <tr>\n",
       "      <th>4</th>\n",
       "      <td>Hasaki</td>\n",
       "      <td>35.7333</td>\n",
       "      <td>140.8333</td>\n",
       "      <td>26.16</td>\n",
       "      <td>81</td>\n",
       "      <td>100</td>\n",
       "      <td>1.58</td>\n",
       "      <td>JP</td>\n",
       "      <td>1631414881</td>\n",
       "    </tr>\n",
       "  </tbody>\n",
       "</table>\n",
       "</div>"
      ],
      "text/plain": [
       "          City      Lat       Lng  Max Temp (°C)  Humidity (%)  \\\n",
       "0        Kutum  14.2000   24.6667          23.50            66   \n",
       "1  Tuktoyaktuk  69.4541 -133.0374          11.00            76   \n",
       "2     Saldanha -33.0117   17.9442          13.03            91   \n",
       "3     Cherskiy  68.7500  161.3000           2.26            50   \n",
       "4       Hasaki  35.7333  140.8333          26.16            81   \n",
       "\n",
       "   Cloudiness (%)  Wind Speed (MPH) Country        Date  \n",
       "0              52              3.96      SD  1631415176  \n",
       "1              90              3.09      CA  1631415177  \n",
       "2             100              4.31      ZA  1631415178  \n",
       "3             100              2.49      RU  1631415178  \n",
       "4             100              1.58      JP  1631414881  "
      ]
     },
     "execution_count": 6,
     "metadata": {},
     "output_type": "execute_result"
    }
   ],
   "source": [
    "#create a dataframe to store all the data obtained from OpenWeather\n",
    "weather_df = pd.DataFrame({\n",
    "    \"City\": city_name,\n",
    "    \"Lat\": lat,\n",
    "    \"Lng\": lng,\n",
    "    \"Max Temp (°C)\": max_temp,\n",
    "    \"Humidity (%)\": humidity,\n",
    "    \"Cloudiness (%)\": cloudiness,\n",
    "    \"Wind Speed (MPH)\": wind_speed,\n",
    "    \"Country\": country,\n",
    "    \"Date\": date    \n",
    "})\n",
    "weather_df.head()"
   ]
  },
  {
   "cell_type": "code",
   "execution_count": 7,
   "metadata": {},
   "outputs": [],
   "source": [
    "#Convert the weather_df to csv file\n",
    "weather_df.to_csv('../output_data/weather_df.csv',encoding=\"utf-8\", index=False)"
   ]
  },
  {
   "cell_type": "markdown",
   "metadata": {},
   "source": [
    "## Inspect the data and remove the cities where the humidity > 100%.\n",
    "----\n",
    "Skip this step if there are no cities that have humidity > 100%. "
   ]
  },
  {
   "cell_type": "code",
   "execution_count": 8,
   "metadata": {},
   "outputs": [
    {
     "data": {
      "text/html": [
       "<div>\n",
       "<style scoped>\n",
       "    .dataframe tbody tr th:only-of-type {\n",
       "        vertical-align: middle;\n",
       "    }\n",
       "\n",
       "    .dataframe tbody tr th {\n",
       "        vertical-align: top;\n",
       "    }\n",
       "\n",
       "    .dataframe thead th {\n",
       "        text-align: right;\n",
       "    }\n",
       "</style>\n",
       "<table border=\"1\" class=\"dataframe\">\n",
       "  <thead>\n",
       "    <tr style=\"text-align: right;\">\n",
       "      <th></th>\n",
       "      <th>City</th>\n",
       "      <th>Lat</th>\n",
       "      <th>Lng</th>\n",
       "      <th>Max Temp (°C)</th>\n",
       "      <th>Humidity (%)</th>\n",
       "      <th>Cloudiness (%)</th>\n",
       "      <th>Wind Speed (MPH)</th>\n",
       "      <th>Country</th>\n",
       "      <th>Date</th>\n",
       "    </tr>\n",
       "  </thead>\n",
       "  <tbody>\n",
       "  </tbody>\n",
       "</table>\n",
       "</div>"
      ],
      "text/plain": [
       "Empty DataFrame\n",
       "Columns: [City, Lat, Lng, Max Temp (°C), Humidity (%), Cloudiness (%), Wind Speed (MPH), Country, Date]\n",
       "Index: []"
      ]
     },
     "execution_count": 8,
     "metadata": {},
     "output_type": "execute_result"
    }
   ],
   "source": [
    "#  Get the indices of cities that have humidity over 100%.\n",
    "humidity_over_100=weather_df.loc[weather_df['Humidity (%)']>100]\n",
    "humidity_over_100"
   ]
  },
  {
   "cell_type": "code",
   "execution_count": 9,
   "metadata": {},
   "outputs": [
    {
     "data": {
      "text/html": [
       "<div>\n",
       "<style scoped>\n",
       "    .dataframe tbody tr th:only-of-type {\n",
       "        vertical-align: middle;\n",
       "    }\n",
       "\n",
       "    .dataframe tbody tr th {\n",
       "        vertical-align: top;\n",
       "    }\n",
       "\n",
       "    .dataframe thead th {\n",
       "        text-align: right;\n",
       "    }\n",
       "</style>\n",
       "<table border=\"1\" class=\"dataframe\">\n",
       "  <thead>\n",
       "    <tr style=\"text-align: right;\">\n",
       "      <th></th>\n",
       "      <th>City</th>\n",
       "      <th>Lat</th>\n",
       "      <th>Lng</th>\n",
       "      <th>Max Temp (°C)</th>\n",
       "      <th>Humidity (%)</th>\n",
       "      <th>Cloudiness (%)</th>\n",
       "      <th>Wind Speed (MPH)</th>\n",
       "      <th>Country</th>\n",
       "      <th>Date</th>\n",
       "    </tr>\n",
       "  </thead>\n",
       "  <tbody>\n",
       "    <tr>\n",
       "      <th>0</th>\n",
       "      <td>Kutum</td>\n",
       "      <td>14.2000</td>\n",
       "      <td>24.6667</td>\n",
       "      <td>23.50</td>\n",
       "      <td>66</td>\n",
       "      <td>52</td>\n",
       "      <td>3.96</td>\n",
       "      <td>SD</td>\n",
       "      <td>1631415176</td>\n",
       "    </tr>\n",
       "    <tr>\n",
       "      <th>1</th>\n",
       "      <td>Tuktoyaktuk</td>\n",
       "      <td>69.4541</td>\n",
       "      <td>-133.0374</td>\n",
       "      <td>11.00</td>\n",
       "      <td>76</td>\n",
       "      <td>90</td>\n",
       "      <td>3.09</td>\n",
       "      <td>CA</td>\n",
       "      <td>1631415177</td>\n",
       "    </tr>\n",
       "    <tr>\n",
       "      <th>2</th>\n",
       "      <td>Saldanha</td>\n",
       "      <td>-33.0117</td>\n",
       "      <td>17.9442</td>\n",
       "      <td>13.03</td>\n",
       "      <td>91</td>\n",
       "      <td>100</td>\n",
       "      <td>4.31</td>\n",
       "      <td>ZA</td>\n",
       "      <td>1631415178</td>\n",
       "    </tr>\n",
       "    <tr>\n",
       "      <th>3</th>\n",
       "      <td>Cherskiy</td>\n",
       "      <td>68.7500</td>\n",
       "      <td>161.3000</td>\n",
       "      <td>2.26</td>\n",
       "      <td>50</td>\n",
       "      <td>100</td>\n",
       "      <td>2.49</td>\n",
       "      <td>RU</td>\n",
       "      <td>1631415178</td>\n",
       "    </tr>\n",
       "    <tr>\n",
       "      <th>4</th>\n",
       "      <td>Hasaki</td>\n",
       "      <td>35.7333</td>\n",
       "      <td>140.8333</td>\n",
       "      <td>26.16</td>\n",
       "      <td>81</td>\n",
       "      <td>100</td>\n",
       "      <td>1.58</td>\n",
       "      <td>JP</td>\n",
       "      <td>1631414881</td>\n",
       "    </tr>\n",
       "  </tbody>\n",
       "</table>\n",
       "</div>"
      ],
      "text/plain": [
       "          City      Lat       Lng  Max Temp (°C)  Humidity (%)  \\\n",
       "0        Kutum  14.2000   24.6667          23.50            66   \n",
       "1  Tuktoyaktuk  69.4541 -133.0374          11.00            76   \n",
       "2     Saldanha -33.0117   17.9442          13.03            91   \n",
       "3     Cherskiy  68.7500  161.3000           2.26            50   \n",
       "4       Hasaki  35.7333  140.8333          26.16            81   \n",
       "\n",
       "   Cloudiness (%)  Wind Speed (MPH) Country        Date  \n",
       "0              52              3.96      SD  1631415176  \n",
       "1              90              3.09      CA  1631415177  \n",
       "2             100              4.31      ZA  1631415178  \n",
       "3             100              2.49      RU  1631415178  \n",
       "4             100              1.58      JP  1631414881  "
      ]
     },
     "execution_count": 9,
     "metadata": {},
     "output_type": "execute_result"
    }
   ],
   "source": [
    "# Make a new DataFrame equal to the city data to drop all humidity outliers by index.\n",
    "# Passing \"inplace=False\" will make a copy of the city_data DataFrame, which we call \"clean_city_data\".\n",
    "clean_weather_df=weather_df.drop(weather_df[weather_df['Humidity (%)'] >100].index, inplace = False)\n",
    "clean_weather_df.head()"
   ]
  },
  {
   "cell_type": "markdown",
   "metadata": {},
   "source": [
    "## Plotting the Data\n",
    "* Use proper labeling of the plots using plot titles (including date of analysis) and axes labels.\n",
    "* Save the plotted figures as .pngs."
   ]
  },
  {
   "cell_type": "markdown",
   "metadata": {},
   "source": [
    "## Latitude vs. Temperature Plot"
   ]
  },
  {
   "cell_type": "code",
   "execution_count": 10,
   "metadata": {
    "scrolled": true
   },
   "outputs": [
    {
     "data": {
      "image/png": "[encoded data removed]",
      "text/plain": [
       "<Figure size 432x288 with 1 Axes>"
      ]
     },
     "metadata": {
      "needs_background": "light"
     },
     "output_type": "display_data"
    }
   ],
   "source": [
    "#Plot latitude vs Max Temperature\n",
    "clean_weather_df.plot.scatter(x = 'Lat', y = 'Max Temp (°C)', marker='o', color='red')\n",
    "\n",
    "#Graph details\n",
    "plt.title(\"Latitude vs. Max Temperature (12-09-2021)\")\n",
    "plt.xlabel(\"Latitude\")\n",
    "plt.ylabel(\"Max Temp (°C)\")\n",
    "plt.grid(True)\n",
    "\n",
    "plt.savefig('../Images/Latitude_MaxTemperature_Plot.png')"
   ]
  },
  {
   "cell_type": "markdown",
   "metadata": {},
   "source": [
    "The scatterplot above shows that the maximum temperature of each city increases as it approaches the equator(latitude=0). The maximum temperature of each city starts to decrease when it is further away from the equator."
   ]
  },
  {
   "cell_type": "markdown",
   "metadata": {},
   "source": [
    "## Latitude vs. Humidity Plot"
   ]
  },
  {
   "cell_type": "code",
   "execution_count": 11,
   "metadata": {},
   "outputs": [
    {
     "data": {
      "image/png": "[encoded data removed]",
      "text/plain": [
       "<Figure size 432x288 with 1 Axes>"
      ]
     },
     "metadata": {
      "needs_background": "light"
     },
     "output_type": "display_data"
    }
   ],
   "source": [
    "#Plot Latitude vs Humidity\n",
    "clean_weather_df.plot.scatter(x = 'Lat', y = 'Humidity (%)', marker='o', color='red')\n",
    "\n",
    "#Graph Details\n",
    "plt.title(\"Latitude vs. Humidity (12-09-2021)\")\n",
    "plt.xlabel(\"Latitude\")\n",
    "plt.ylabel(\"Humidity (%)\")\n",
    "plt.grid(True)\n",
    "\n",
    "plt.savefig('../Images/Latitude_Humidity_Plot.png')"
   ]
  },
  {
   "cell_type": "markdown",
   "metadata": {},
   "source": [
    "From the scatterplot above, we can observe that the points(humidity of each city) are scattered all over the plot, with most cities having humidity of more than 60%. Latitude might not have a direct relationship with humidity but we will need to carry out further test such as Pearson correlation coefficient to check so."
   ]
  },
  {
   "cell_type": "markdown",
   "metadata": {},
   "source": [
    "## Latitude vs. Cloudiness Plot"
   ]
  },
  {
   "cell_type": "code",
   "execution_count": 12,
   "metadata": {},
   "outputs": [
    {
     "data": {
      "image/png": "[encoded data removed]",
      "text/plain": [
       "<Figure size 432x288 with 1 Axes>"
      ]
     },
     "metadata": {
      "needs_background": "light"
     },
     "output_type": "display_data"
    }
   ],
   "source": [
    "#Plot Latitude vs Cloudiness\n",
    "clean_weather_df.plot.scatter(x = 'Lat', y = 'Cloudiness (%)', marker='o', color='red')\n",
    "\n",
    "#Graph Details\n",
    "plt.title(\"Latitude vs. Humidity (12-09-2021)\")\n",
    "plt.xlabel(\"Latitude\")\n",
    "plt.ylabel(\"Cloudiness (%)\")\n",
    "plt.grid(True)\n",
    "\n",
    "plt.savefig('../Images/Latitude_Cloudiness_Plot.png')"
   ]
  },
  {
   "cell_type": "markdown",
   "metadata": {},
   "source": [
    "From the scatterplot above, we can observe that the data points seem to be evenly distributed, suggesting the two varibales have no relationship. The latitude will not influence the cloudiness of a city."
   ]
  },
  {
   "cell_type": "markdown",
   "metadata": {},
   "source": [
    "## Latitude vs. Wind Speed Plot"
   ]
  },
  {
   "cell_type": "code",
   "execution_count": 13,
   "metadata": {},
   "outputs": [
    {
     "data": {
      "image/png": "[encoded data removed]",
      "text/plain": [
       "<Figure size 432x288 with 1 Axes>"
      ]
     },
     "metadata": {
      "needs_background": "light"
     },
     "output_type": "display_data"
    }
   ],
   "source": [
    "#Plot Latitude vs Wind Speed\n",
    "clean_weather_df.plot.scatter(x = 'Lat', y = 'Wind Speed (MPH)', marker='o', color='red')\n",
    "\n",
    "#Graph Details\n",
    "plt.title(\"Latitude vs. Humidity (12-09-2021)\")\n",
    "plt.xlabel(\"Latitude\")\n",
    "plt.ylabel(\"Wind Speed (MPH)\")\n",
    "plt.grid(True)\n",
    "\n",
    "plt.savefig('../Images/Latitude_WindSpeed_Plot.png')"
   ]
  },
  {
   "cell_type": "markdown",
   "metadata": {},
   "source": [
    "From the scatterplot above, we can observe that most of the cities have wind speed between 0MPH and 8MPH, with a few cities having higher wind speed."
   ]
  },
  {
   "cell_type": "markdown",
   "metadata": {},
   "source": [
    "## Linear Regression"
   ]
  },
  {
   "cell_type": "code",
   "execution_count": 14,
   "metadata": {},
   "outputs": [],
   "source": [
    "#Create two separate df for Northern Hemisphere (greater than or equal to 0 degrees latitude) \n",
    "#and Southern Hemisphere (less than 0 degrees latitude)\n",
    "\n",
    "north_hem_df = clean_weather_df.loc[weather_df[\"Lat\"] >= 0]\n",
    "south_hem_df = clean_weather_df.loc[weather_df[\"Lat\"] < 0]"
   ]
  },
  {
   "cell_type": "markdown",
   "metadata": {},
   "source": [
    "####  Northern Hemisphere - Max Temp vs. Latitude Linear Regression"
   ]
  },
  {
   "cell_type": "code",
   "execution_count": 15,
   "metadata": {},
   "outputs": [
    {
     "name": "stdout",
     "output_type": "stream",
     "text": [
      "The r-squared is: 0.6493813166897796\n"
     ]
    },
    {
     "data": {
      "image/png": "[encoded data removed]",
      "text/plain": [
       "<Figure size 432x288 with 1 Axes>"
      ]
     },
     "metadata": {
      "needs_background": "light"
     },
     "output_type": "display_data"
    },
    {
     "data": {
      "text/plain": [
       "<Figure size 432x288 with 0 Axes>"
      ]
     },
     "metadata": {},
     "output_type": "display_data"
    }
   ],
   "source": [
    "(slope, intercept, rvalue, pvalue, stderr) = linregress(north_hem_df['Lat'], north_hem_df['Max Temp (°C)'])\n",
    "regress_values = north_hem_df['Lat'] * slope + intercept\n",
    "line_eq = \"y = \" + str(round(slope,2)) + \"x + \" + str(round(intercept,2))\n",
    "north_hem_df.plot.scatter(x = 'Lat', y = 'Max Temp (°C)', marker='o', color='navy')\n",
    "plt.plot(north_hem_df['Lat'],regress_values,\"r-\")\n",
    "plt.annotate(line_eq,(0,10),fontsize=15,color=\"red\")\n",
    "plt.title(\"Northern Hemisphere - Max Temp(°C) vs. Latitude(12-09-2021)\")\n",
    "plt.xlabel('Latitude')\n",
    "plt.ylabel('Max Temperature (°C)')\n",
    "print(f\"The r-squared is: {rvalue**2}\")\n",
    "plt.show()\n",
    "\n",
    "#Save the graph as png file and locate it in Images folder\n",
    "plt.savefig('../Images/Northern_Hemisphere-Max_Temp_Latitude.png')"
   ]
  },
  {
   "cell_type": "markdown",
   "metadata": {},
   "source": [
    "In the northern hemisphere, the maximum temperature of cities decrease when they are away from the equator."
   ]
  },
  {
   "cell_type": "markdown",
   "metadata": {},
   "source": [
    "####  Southern Hemisphere - Max Temp vs. Latitude Linear Regression"
   ]
  },
  {
   "cell_type": "code",
   "execution_count": 16,
   "metadata": {},
   "outputs": [
    {
     "name": "stdout",
     "output_type": "stream",
     "text": [
      "The r-squared is: 0.4865770523717754\n"
     ]
    },
    {
     "data": {
      "image/png": "[encoded data removed]",
      "text/plain": [
       "<Figure size 432x288 with 1 Axes>"
      ]
     },
     "metadata": {
      "needs_background": "light"
     },
     "output_type": "display_data"
    },
    {
     "data": {
      "text/plain": [
       "<Figure size 432x288 with 0 Axes>"
      ]
     },
     "metadata": {},
     "output_type": "display_data"
    }
   ],
   "source": [
    "(slope, intercept, rvalue, pvalue, stderr) = linregress(south_hem_df['Lat'], south_hem_df['Max Temp (°C)'])\n",
    "regress_values = south_hem_df['Lat'] * slope + intercept\n",
    "line_eq = \"y = \" + str(round(slope,2)) + \"x + \" + str(round(intercept,2))\n",
    "south_hem_df.plot.scatter(x = 'Lat', y = 'Max Temp (°C)', marker='o', color='navy')\n",
    "plt.plot(south_hem_df['Lat'],regress_values,\"r-\")\n",
    "plt.annotate(line_eq,(-20,10),fontsize=15,color=\"red\")\n",
    "plt.title(\"Southern Hemisphere - Max Temp(°C) vs. Latitude(12-09-2021)\")\n",
    "plt.xlabel('Latitude')\n",
    "plt.ylabel('Max Temperature (°C)')\n",
    "print(f\"The r-squared is: {rvalue**2}\")\n",
    "plt.show()\n",
    "\n",
    "#Save the graph as png file and locate it in Images folder\n",
    "plt.savefig('../Images/Southern_Hemisphere-Max_Temp_Latitude.png')"
   ]
  },
  {
   "cell_type": "markdown",
   "metadata": {},
   "source": [
    "In the southern hemisphere, the maximum temperature of cities increase as they approach the equator."
   ]
  },
  {
   "cell_type": "markdown",
   "metadata": {},
   "source": [
    "####  Northern Hemisphere - Humidity (%) vs. Latitude Linear Regression"
   ]
  },
  {
   "cell_type": "code",
   "execution_count": 17,
   "metadata": {},
   "outputs": [
    {
     "name": "stdout",
     "output_type": "stream",
     "text": [
      "The r-squared is: 0.015116003281481468\n"
     ]
    },
    {
     "data": {
      "image/png": "[encoded data removed]",
      "text/plain": [
       "<Figure size 432x288 with 1 Axes>"
      ]
     },
     "metadata": {
      "needs_background": "light"
     },
     "output_type": "display_data"
    },
    {
     "data": {
      "text/plain": [
       "<Figure size 432x288 with 0 Axes>"
      ]
     },
     "metadata": {},
     "output_type": "display_data"
    }
   ],
   "source": [
    "(slope, intercept, rvalue, pvalue, stderr) = linregress(north_hem_df['Lat'], north_hem_df['Humidity (%)'])\n",
    "regress_values = north_hem_df['Lat'] * slope + intercept\n",
    "line_eq = \"y = \" + str(round(slope,2)) + \"x + \" + str(round(intercept,2))\n",
    "north_hem_df.plot.scatter(x = 'Lat', y = 'Humidity (%)', marker='o', color='navy')\n",
    "plt.plot(north_hem_df['Lat'],regress_values,\"r-\")\n",
    "plt.annotate(line_eq,(50,20),fontsize=15,color=\"red\")\n",
    "plt.title(\"Northern Hemisphere - Humidity(%) vs. Latitud(12-09-2021)\")\n",
    "plt.xlabel('Latitude')\n",
    "plt.ylabel('Humidity (%)')\n",
    "print(f\"The r-squared is: {rvalue**2}\")\n",
    "plt.show()\n",
    "\n",
    "#Save the graph as png file and locate it in Images folder\n",
    "plt.savefig('../Images/Northern_Hemisphere-Humidity_Latitude.png')"
   ]
  },
  {
   "cell_type": "markdown",
   "metadata": {},
   "source": [
    "In the Northern hemisphere, there is no straight-line relationship between the two variables. The change of latitud will not affect the humidity of a city."
   ]
  },
  {
   "cell_type": "markdown",
   "metadata": {},
   "source": [
    "####  Southern Hemisphere - Humidity (%) vs. Latitude Linear Regression"
   ]
  },
  {
   "cell_type": "code",
   "execution_count": 18,
   "metadata": {},
   "outputs": [
    {
     "name": "stdout",
     "output_type": "stream",
     "text": [
      "The r-squared is: 0.0073463036207938185\n"
     ]
    },
    {
     "data": {
      "image/png": "[encoded data removed]",
      "text/plain": [
       "<Figure size 432x288 with 1 Axes>"
      ]
     },
     "metadata": {
      "needs_background": "light"
     },
     "output_type": "display_data"
    },
    {
     "data": {
      "text/plain": [
       "<Figure size 432x288 with 0 Axes>"
      ]
     },
     "metadata": {},
     "output_type": "display_data"
    }
   ],
   "source": [
    "(slope, intercept, rvalue, pvalue, stderr) = linregress(south_hem_df['Lat'], south_hem_df['Humidity (%)'])\n",
    "regress_values = south_hem_df['Lat'] * slope + intercept\n",
    "line_eq = \"y = \" + str(round(slope,2)) + \"x + \" + str(round(intercept,2))\n",
    "south_hem_df.plot.scatter(x = 'Lat', y = 'Humidity (%)', marker='o', color='navy')\n",
    "plt.plot(south_hem_df['Lat'],regress_values,\"r-\")\n",
    "plt.annotate(line_eq,(-50,20),fontsize=15,color=\"red\")\n",
    "plt.title(\"Southern Hemisphere - Humidity(%) vs. Latitud(12-09-2021)\")\n",
    "plt.xlabel('Latitude')\n",
    "plt.ylabel('Humidity (%)')\n",
    "print(f\"The r-squared is: {rvalue**2}\")\n",
    "plt.show()\n",
    "\n",
    "#Save the graph as png file and locate it in Images folder\n",
    "plt.savefig('../Images/Southern_Hemisphere-Humidity_Latitude.png')"
   ]
  },
  {
   "cell_type": "markdown",
   "metadata": {},
   "source": [
    "In the Southern hemisphere, there is no straight-line relationship or non-linear relationship between the two variables. The change of latitud will not affect the humidity of a city."
   ]
  },
  {
   "cell_type": "markdown",
   "metadata": {},
   "source": [
    "####  Northern Hemisphere - Cloudiness (%) vs. Latitude Linear Regression"
   ]
  },
  {
   "cell_type": "code",
   "execution_count": 19,
   "metadata": {},
   "outputs": [
    {
     "name": "stdout",
     "output_type": "stream",
     "text": [
      "The r-squared is: 0.000925526144640682\n"
     ]
    },
    {
     "data": {
      "image/png": "[encoded data removed]",
      "text/plain": [
       "<Figure size 432x288 with 1 Axes>"
      ]
     },
     "metadata": {
      "needs_background": "light"
     },
     "output_type": "display_data"
    },
    {
     "data": {
      "text/plain": [
       "<Figure size 432x288 with 0 Axes>"
      ]
     },
     "metadata": {},
     "output_type": "display_data"
    }
   ],
   "source": [
    "(slope, intercept, rvalue, pvalue, stderr) = linregress(north_hem_df['Lat'], north_hem_df['Cloudiness (%)'])\n",
    "regress_values = north_hem_df['Lat'] * slope + intercept\n",
    "line_eq = \"y = \" + str(round(slope,2)) + \"x + \" + str(round(intercept,2))\n",
    "north_hem_df.plot.scatter(x = 'Lat', y = 'Cloudiness (%)', marker='o', color='navy')\n",
    "plt.plot(north_hem_df['Lat'],regress_values,\"r-\")\n",
    "plt.annotate(line_eq,(0,10),fontsize=15,color=\"red\")\n",
    "plt.title(\"Northern Hemisphere - Cloudiness(%) vs. Latitude(12-09-2021)\")\n",
    "plt.xlabel('Latitude')\n",
    "plt.ylabel('Cloudiness (%)')\n",
    "print(f\"The r-squared is: {rvalue**2}\")\n",
    "plt.show()\n",
    "\n",
    "#Save the graph as png file and locate it in Images folder\n",
    "plt.savefig('../Images/Northern_Hemisphere-Cloudiness_Latitude.png')"
   ]
  },
  {
   "cell_type": "markdown",
   "metadata": {},
   "source": [
    "In the Nothern hemisphere, the data points seem to be evenly distributed in the plot. There is no obvious straight-line relationship between the two variables, suggesting that the latitude will not influence the cloudiness of a city in the northern hemisphere."
   ]
  },
  {
   "cell_type": "markdown",
   "metadata": {},
   "source": [
    "####  Southern Hemisphere - Cloudiness (%) vs. Latitude Linear Regression"
   ]
  },
  {
   "cell_type": "code",
   "execution_count": 20,
   "metadata": {},
   "outputs": [
    {
     "name": "stdout",
     "output_type": "stream",
     "text": [
      "The r-squared is: 8.23870972982941e-05\n"
     ]
    },
    {
     "data": {
      "image/png": "[encoded data removed]",
      "text/plain": [
       "<Figure size 432x288 with 1 Axes>"
      ]
     },
     "metadata": {
      "needs_background": "light"
     },
     "output_type": "display_data"
    },
    {
     "data": {
      "text/plain": [
       "<Figure size 432x288 with 0 Axes>"
      ]
     },
     "metadata": {},
     "output_type": "display_data"
    }
   ],
   "source": [
    "(slope, intercept, rvalue, pvalue, stderr) = linregress(south_hem_df['Lat'], south_hem_df['Cloudiness (%)'])\n",
    "regress_values = south_hem_df['Lat'] * slope + intercept\n",
    "line_eq = \"y = \" + str(round(slope,2)) + \"x + \" + str(round(intercept,2))\n",
    "south_hem_df.plot.scatter(x = 'Lat', y = 'Cloudiness (%)', marker='o', color='navy')\n",
    "plt.plot(south_hem_df['Lat'],regress_values,\"r-\")\n",
    "plt.annotate(line_eq,(0,10),fontsize=15,color=\"red\")\n",
    "plt.title(\"Southern Hemisphere - Cloudiness(%) vs. Latitude(12-09-2021)\")\n",
    "plt.xlabel('Latitude')\n",
    "plt.ylabel('Cloudiness (%)')\n",
    "print(f\"The r-squared is: {rvalue**2}\")\n",
    "plt.show()\n",
    "\n",
    "#Save the graph as png file and locate it in Images folder\n",
    "plt.savefig('../Images/Southern_Hemisphere-Cloudiness_Latitude.png')"
   ]
  },
  {
   "cell_type": "markdown",
   "metadata": {},
   "source": [
    "In the Southern hemisphere, the data points seem to be evenly distributed in the plot. There is no obvious straight-line relationship between the two variables, suggesting that the latitude will not influence the cloudiness of a city in the southern hemisphere."
   ]
  },
  {
   "cell_type": "markdown",
   "metadata": {},
   "source": [
    "####  Northern Hemisphere - Wind Speed (mph) vs. Latitude Linear Regression"
   ]
  },
  {
   "cell_type": "code",
   "execution_count": 21,
   "metadata": {
    "scrolled": true
   },
   "outputs": [
    {
     "name": "stdout",
     "output_type": "stream",
     "text": [
      "The r-squared is: 0.0038619021145112503\n"
     ]
    },
    {
     "data": {
      "image/png": "[encoded data removed]",
      "text/plain": [
       "<Figure size 432x288 with 1 Axes>"
      ]
     },
     "metadata": {
      "needs_background": "light"
     },
     "output_type": "display_data"
    },
    {
     "data": {
      "text/plain": [
       "<Figure size 432x288 with 0 Axes>"
      ]
     },
     "metadata": {},
     "output_type": "display_data"
    }
   ],
   "source": [
    "(slope, intercept, rvalue, pvalue, stderr) = linregress(north_hem_df['Lat'], north_hem_df['Wind Speed (MPH)'])\n",
    "regress_values = north_hem_df['Lat'] * slope + intercept\n",
    "line_eq = \"y = \" + str(round(slope,2)) + \"x + \" + str(round(intercept,2))\n",
    "north_hem_df.plot.scatter(x = 'Lat', y = 'Wind Speed (MPH)', marker='o', color='navy')\n",
    "plt.plot(north_hem_df['Lat'],regress_values,\"r-\")\n",
    "plt.annotate(line_eq,(0,10),fontsize=15,color=\"red\")\n",
    "plt.title(\"Northern Hemisphere - Wind Speed(mph) vs. Latitude(12-09-2021)\")\n",
    "plt.xlabel('Latitude')\n",
    "plt.ylabel('Wind Speed (mph)')\n",
    "print(f\"The r-squared is: {rvalue**2}\")\n",
    "plt.show()\n",
    "\n",
    "#Save the graph as png file and locate it in Images folder\n",
    "plt.savefig('../Images/Northern_Hemisphere-WindSpeed_Latitude.png')"
   ]
  },
  {
   "cell_type": "markdown",
   "metadata": {},
   "source": [
    "In the Northern hemisphere, there is no straight-line relationship between the two variables, suggesting that the latitude will not influence the wind speed."
   ]
  },
  {
   "cell_type": "markdown",
   "metadata": {},
   "source": [
    "####  Southern Hemisphere - Wind Speed (mph) vs. Latitude Linear Regression"
   ]
  },
  {
   "cell_type": "code",
   "execution_count": 22,
   "metadata": {},
   "outputs": [
    {
     "name": "stdout",
     "output_type": "stream",
     "text": [
      "The r-squared is: 0.1282215779688698\n"
     ]
    },
    {
     "data": {
      "image/png": "[encoded data removed]",
      "text/plain": [
       "<Figure size 432x288 with 1 Axes>"
      ]
     },
     "metadata": {
      "needs_background": "light"
     },
     "output_type": "display_data"
    },
    {
     "data": {
      "text/plain": [
       "<Figure size 432x288 with 0 Axes>"
      ]
     },
     "metadata": {},
     "output_type": "display_data"
    }
   ],
   "source": [
    "(slope, intercept, rvalue, pvalue, stderr) = linregress(south_hem_df['Lat'], south_hem_df['Wind Speed (MPH)'])\n",
    "regress_values = south_hem_df['Lat'] * slope + intercept\n",
    "line_eq = \"y = \" + str(round(slope,2)) + \"x + \" + str(round(intercept,2))\n",
    "south_hem_df.plot.scatter(x = 'Lat', y = 'Wind Speed (MPH)', marker='o', color='navy')\n",
    "plt.plot(south_hem_df['Lat'],regress_values,\"r-\")\n",
    "plt.annotate(line_eq,(-50,12),fontsize=15,color=\"red\")\n",
    "plt.title(\"Southern Hemisphere - Wind Speed(mph) vs. Latitude(12-09-2021)\")\n",
    "plt.xlabel('Latitude')\n",
    "plt.ylabel('Wind Speed (mph)')\n",
    "print(f\"The r-squared is: {rvalue**2}\")\n",
    "plt.show()\n",
    "\n",
    "#Save the graph as png file and locate it in Images folder\n",
    "plt.savefig('../Images/Southern_Hemisphere-WindSpeed_Latitude.png')"
   ]
  },
  {
   "cell_type": "markdown",
   "metadata": {},
   "source": [
    "In the Southern hemisphere, there is no obvious straight-line relationship between the two variables, suggesting that the latitude will not influence the wind speed."
   ]
  }
 ],
 "metadata": {
  "anaconda-cloud": {},
  "kernel_info": {
   "name": "python3"
  },
  "kernelspec": {
   "display_name": "Python 3",
   "language": "python",
   "name": "python3"
  },
  "language_info": {
   "codemirror_mode": {
    "name": "ipython",
    "version": 3
   },
   "file_extension": ".py",
   "mimetype": "text/x-python",
   "name": "python",
   "nbconvert_exporter": "python",
   "pygments_lexer": "ipython3",
   "version": "3.8.8"
  },
  "latex_envs": {
   "LaTeX_envs_menu_present": true,
   "autoclose": false,
   "autocomplete": true,
   "bibliofile": "biblio.bib",
   "cite_by": "apalike",
   "current_citInitial": 1,
   "eqLabelWithNumbers": true,
   "eqNumInitial": 1,
   "hotkeys": {
    "equation": "Ctrl-E",
    "itemize": "Ctrl-I"
   },
   "labels_anchors": false,
   "latex_user_defs": false,
   "report_style_numbering": false,
   "user_envs_cfg": false
  },
  "nteract": {
   "version": "0.12.3"
  }
 },
 "nbformat": 4,
 "nbformat_minor": 2
}
